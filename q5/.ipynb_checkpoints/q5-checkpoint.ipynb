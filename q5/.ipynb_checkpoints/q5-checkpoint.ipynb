{
 "cells": [
  {
   "cell_type": "markdown",
   "metadata": {},
   "source": [
    "Q5:\n",
    "Write a program that includes functions that convert between wavelength, frequency, and energy, and between F$\\scriptstyle \\lambda$ (in ergs/cm2/s/Å) and F$\\scriptstyle \\nu$ (in ergs/cm2/s/Hz). All of these functions should exist in a single file in Python (preferred), IDL, C, C++, or Fortran file. Use the routines to determine frequency and energy at 5500Å, as well as the conversion factor between F$\\scriptstyle \\lambda$ and F$\\scriptstyle \\nu$ at 3000Å, 5500Å, and 8000Å. "
   ]
  },
  {
   "cell_type": "code",
   "execution_count": 44,
   "metadata": {
    "collapsed": false
   },
   "outputs": [
    {
     "name": "stdout",
     "output_type": "stream",
     "text": [
      "5.45454545455e+16\n"
     ]
    }
   ],
   "source": [
    "# Function lambda_nu converts lambda (wavelength) to nu (frequency) using lambda*nu = c\n",
    "# Requires input lambda value\n",
    "def lambda_nu(lambd):\n",
    "    c = 3.0E20 # Angstroms/s\n",
    "    return (c/lambd)\n",
    "\n",
    "print lambda_nu(5500.0)"
   ]
  },
  {
   "cell_type": "code",
   "execution_count": 21,
   "metadata": {
    "collapsed": false
   },
   "outputs": [
    {
     "data": {
      "text/plain": [
       "600.0"
      ]
     },
     "execution_count": 21,
     "metadata": {},
     "output_type": "execute_result"
    }
   ],
   "source": [
    "# Function nu_lambda converts nu (frequency) to lambda (wavelength - angstroms) using lambda*nu = c\n",
    "# Requires input nu value\n",
    "def nu_lambda(nu):\n",
    "    c = 3.0E20 # Angstroms/s\n",
    "    return (c/nu)\n",
    "\n",
    "print nu_lambda(5.0E17)"
   ]
  },
  {
   "cell_type": "code",
   "execution_count": 36,
   "metadata": {
    "collapsed": false
   },
   "outputs": [
    {
     "data": {
      "text/plain": [
       "3.614181818181818e-10"
      ]
     },
     "execution_count": 36,
     "metadata": {},
     "output_type": "execute_result"
    }
   ],
   "source": [
    "# Function lambda_energy converts lambda (wavelength - angstroms) to energy (ergs) using h*c/lambda = E\n",
    "# Requires input lambda value\n",
    "def lambda_energy(lambd):\n",
    "    h = 6.626E-27 # Erg*s\n",
    "    c = 3.0E20 # Angstroms/s\n",
    "    return ((h*c) / lambd)\n",
    "\n",
    "print lambda_energy(5500.0)"
   ]
  },
  {
   "cell_type": "code",
   "execution_count": 27,
   "metadata": {
    "collapsed": false
   },
   "outputs": [
    {
     "data": {
      "text/plain": [
       "198.77999999999997"
      ]
     },
     "execution_count": 27,
     "metadata": {},
     "output_type": "execute_result"
    }
   ],
   "source": [
    "# Function energy_lambda converts energy (ergs) to lambda (wavelength - angstroms) using h*c/lambda = E\n",
    "# Requires input energy value\n",
    "def energy_lambda(energy):\n",
    "    h = 6.626E-27 # Erg*s\n",
    "    c = 3.0E20 # Angstroms/s\n",
    "    return ((h*c) / energy)\n",
    "\n",
    "print energy_lambda(1.0E-8)"
   ]
  },
  {
   "cell_type": "code",
   "execution_count": 29,
   "metadata": {
    "collapsed": false
   },
   "outputs": [
    {
     "data": {
      "text/plain": [
       "9.2764e-34"
      ]
     },
     "execution_count": 29,
     "metadata": {},
     "output_type": "execute_result"
    }
   ],
   "source": [
    "# Function nu_energy converts nu (frequency) to energy (ergs) using E = h*nu\n",
    "# Requires input nu value\n",
    "def nu_energy(nu):\n",
    "    h = 6.626E-27 # Erg*s\n",
    "    return (h*nu)\n",
    "\n",
    "print nu_energy(1.4E-7)"
   ]
  },
  {
   "cell_type": "code",
   "execution_count": 31,
   "metadata": {
    "collapsed": false
   },
   "outputs": [
    {
     "data": {
      "text/plain": [
       "8149713250830064.0"
      ]
     },
     "execution_count": 31,
     "metadata": {},
     "output_type": "execute_result"
    }
   ],
   "source": [
    "# Function energy_nu converts energy (ergs) to nu (frequency) using E = h*nu\n",
    "# Requires input energy value\n",
    "def energy_nu(energy):\n",
    "    h = 6.626E-27 # Erg*s\n",
    "    return (energy/h)\n",
    "\n",
    "print energy_nu(5.4E-11)"
   ]
  },
  {
   "cell_type": "code",
   "execution_count": 39,
   "metadata": {
    "collapsed": false
   },
   "outputs": [
    {
     "name": "stdout",
     "output_type": "stream",
     "text": [
      "1.06666666667e+26\n",
      "3.17355371901e+25\n",
      "1.5e+25\n"
     ]
    }
   ],
   "source": [
    "# Function Fnu_Flambda converts Fnu (ergs/cm2/s/Hz) to Flambda (ergs/cm2/s/Å) using Flambda = Fnu*c/(lambd^2)\n",
    "# Requires input Fnu and lambda values\n",
    "def Fnu_Flambda(Fnu, lambd):\n",
    "    c = 3.0E20 # Angstroms/s\n",
    "    return ((Fnu*c)/(lambd**2.0))\n",
    "\n",
    "print Fnu_Flambda(3.2E12, 3000.0)\n",
    "print Fnu_Flambda(3.2E12, 5500.0)\n",
    "print Fnu_Flambda(3.2E12, 8000.0)"
   ]
  },
  {
   "cell_type": "code",
   "execution_count": 43,
   "metadata": {
    "collapsed": false
   },
   "outputs": [
    {
     "name": "stdout",
     "output_type": "stream",
     "text": [
      "0.096\n",
      "0.323205117414\n",
      "0.682666666667\n"
     ]
    }
   ],
   "source": [
    "# Function Flambda_Fnu converts Flambda (ergs/cm2/s/Å) to Fnu (ergs/cm2/s/Hz) using Fnu = Flambda*c/(nu^2)\n",
    "# Requires input Flambda and nu values\n",
    "def Flambda_Fnu(Flambda, nu):\n",
    "    c = 3.0E20 # Angstroms/s\n",
    "    return ((Flambda*c)/(nu**2.0))\n",
    "\n",
    "print Flambda_Fnu(3.2E12, 1.0E17)  # Frequency at 3000Å\n",
    "print Flambda_Fnu(3.2E12, 5.45E16) # Frequency at 5500Å\n",
    "print Flambda_Fnu(3.2E12, 3.75E16) # Frequency at 8000Å"
   ]
  },
  {
   "cell_type": "code",
   "execution_count": null,
   "metadata": {
    "collapsed": true
   },
   "outputs": [],
   "source": []
  }
 ],
 "metadata": {
  "kernelspec": {
   "display_name": "Python 2",
   "language": "python",
   "name": "python2"
  },
  "language_info": {
   "codemirror_mode": {
    "name": "ipython",
    "version": 2
   },
   "file_extension": ".py",
   "mimetype": "text/x-python",
   "name": "python",
   "nbconvert_exporter": "python",
   "pygments_lexer": "ipython2",
   "version": "2.7.10"
  }
 },
 "nbformat": 4,
 "nbformat_minor": 0
}
