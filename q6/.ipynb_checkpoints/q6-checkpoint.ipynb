{
 "cells": [
  {
   "cell_type": "markdown",
   "metadata": {},
   "source": [
    "Q6: Derive the relation between monochromatic magnitudes in the STMAG and the ABNU systems. Add a function to your module that does this conversion. ***Added functions are at bottom of page***"
   ]
  },
  {
   "cell_type": "code",
   "execution_count": 1,
   "metadata": {
    "collapsed": false
   },
   "outputs": [
    {
     "name": "stdout",
     "output_type": "stream",
     "text": [
      "5.45454545455e+14\n"
     ]
    }
   ],
   "source": [
    "# Function lambda_nu converts lambda (wavelength) to nu (frequency) using lambda*nu = c\n",
    "# Requires input lambda value\n",
    "def lambda_nu(lambd):\n",
    "    c = 3.0E18 # Angstroms/s\n",
    "    return (c/lambd)\n",
    "\n",
    "print lambda_nu(5500.0)"
   ]
  },
  {
   "cell_type": "code",
   "execution_count": 16,
   "metadata": {
    "collapsed": false
   },
   "outputs": [
    {
     "name": "stdout",
     "output_type": "stream",
     "text": [
      "5500.0\n"
     ]
    }
   ],
   "source": [
    "# Function nu_lambda converts nu (frequency) to lambda (wavelength - angstroms) using lambda*nu = c\n",
    "# Requires input nu value\n",
    "def nu_lambda(nu):\n",
    "    c = 3.0E18 # Angstroms/s\n",
    "    return (c/nu)\n",
    "\n",
    "print nu_lambda(lambda_nu(5500.0))"
   ]
  },
  {
   "cell_type": "code",
   "execution_count": 17,
   "metadata": {
    "collapsed": false
   },
   "outputs": [
    {
     "name": "stdout",
     "output_type": "stream",
     "text": [
      "3.61418181818e-12\n"
     ]
    }
   ],
   "source": [
    "# Function lambda_energy converts lambda (wavelength - angstroms) to energy (ergs) using h*c/lambda = E\n",
    "# Requires input lambda value\n",
    "def lambda_energy(lambd):\n",
    "    h = 6.626E-27 # Erg*s\n",
    "    c = 3.0E18 # Angstroms/s\n",
    "    return ((h*c) / lambd)\n",
    "\n",
    "print lambda_energy(5500.0)"
   ]
  },
  {
   "cell_type": "code",
   "execution_count": 4,
   "metadata": {
    "collapsed": false
   },
   "outputs": [
    {
     "name": "stdout",
     "output_type": "stream",
     "text": [
      "1.9878\n"
     ]
    }
   ],
   "source": [
    "# Function energy_lambda converts energy (ergs) to lambda (wavelength - angstroms) using h*c/lambda = E\n",
    "# Requires input energy value\n",
    "def energy_lambda(energy):\n",
    "    h = 6.626E-27 # Erg*s\n",
    "    c = 3.0E18 # Angstroms/s\n",
    "    return ((h*c) / energy)\n",
    "\n",
    "print energy_lambda(1.0E-8)"
   ]
  },
  {
   "cell_type": "code",
   "execution_count": 5,
   "metadata": {
    "collapsed": false
   },
   "outputs": [
    {
     "name": "stdout",
     "output_type": "stream",
     "text": [
      "9.2764e-34\n"
     ]
    }
   ],
   "source": [
    "# Function nu_energy converts nu (frequency) to energy (ergs) using E = h*nu\n",
    "# Requires input nu value\n",
    "def nu_energy(nu):\n",
    "    h = 6.626E-27 # Erg*s\n",
    "    return (h*nu)\n",
    "\n",
    "print nu_energy(1.4E-7)"
   ]
  },
  {
   "cell_type": "code",
   "execution_count": 6,
   "metadata": {
    "collapsed": false
   },
   "outputs": [
    {
     "name": "stdout",
     "output_type": "stream",
     "text": [
      "8.14971325083e+15\n"
     ]
    }
   ],
   "source": [
    "# Function energy_nu converts energy (ergs) to nu (frequency) using E = h*nu\n",
    "# Requires input energy value\n",
    "def energy_nu(energy):\n",
    "    h = 6.626E-27 # Erg*s\n",
    "    return (energy/h)\n",
    "\n",
    "print energy_nu(5.4E-11)"
   ]
  },
  {
   "cell_type": "code",
   "execution_count": 13,
   "metadata": {
    "collapsed": false
   },
   "outputs": [
    {
     "name": "stdout",
     "output_type": "stream",
     "text": [
      "3.33333333333e+11\n",
      "99173553719.0\n",
      "46875000000.0\n"
     ]
    }
   ],
   "source": [
    "# Function Fnu_Flambda converts Fnu (ergs/cm2/s/Hz) to Flambda (ergs/cm2/s/Å) using Flambda = Fnu*c/(lambd^2)\n",
    "#    Function on its own converts the two, print statements at bottom give their conversion factor\n",
    "# Requires input Fnu and lambda values\n",
    "def Fnu_Flambda(Fnu, lambd):\n",
    "    c = 3.0E18 # Angstroms/s\n",
    "    return ((Fnu*c)/(lambd**2.0))\n",
    "\n",
    "print Fnu_Flambda(3.2E12, 3000.0) / 3.2E12\n",
    "print Fnu_Flambda(3.2E12, 5500.0) / 3.2E12\n",
    "print Fnu_Flambda(3.2E12, 8000.0) / 3.2E12"
   ]
  },
  {
   "cell_type": "code",
   "execution_count": 18,
   "metadata": {
    "collapsed": false
   },
   "outputs": [
    {
     "name": "stdout",
     "output_type": "stream",
     "text": [
      "9.6\n",
      "32.2666666667\n",
      "68.2666666667\n"
     ]
    }
   ],
   "source": [
    "# Function Flambda_Fnu converts Flambda (ergs/cm2/s/Å) to Fnu (ergs/cm2/s/Hz) using Fnu = Flambda*c/(nu^2)\n",
    "# Requires input Flambda and nu values\n",
    "def Flambda_Fnu(Flambda, nu):\n",
    "    c = 3.0E18 # Angstroms/s\n",
    "    return ((Flambda*c)/(nu**2.0))\n",
    "\n",
    "print Flambda_Fnu(3.2E12, lambda_nu(3000.0))  # Frequency at 3000Å\n",
    "print Flambda_Fnu(3.2E12, lambda_nu(5500.0)) # Frequency at 5500Å\n",
    "print Flambda_Fnu(3.2E12, lambda_nu(8000.0)) # Frequency at 8000Å"
   ]
  },
  {
   "cell_type": "code",
   "execution_count": 19,
   "metadata": {
    "collapsed": false
   },
   "outputs": [
    {
     "data": {
      "text/plain": [
       "3.9909896893279395"
      ]
     },
     "execution_count": 19,
     "metadata": {},
     "output_type": "execute_result"
    }
   ],
   "source": [
    "import numpy as np\n",
    "\n",
    "# Function stmag_abnu converts STMAG magnitudes to ABNU magnitudes\n",
    "def stmag_abnu(stmag):\n",
    "    Flambda = 10**(-(stmag+21.1)/2.5)                 # rearrange original stmag magnitude equation to solve for Flambda\n",
    "    Fnu = Flambda_Fnu(Flambda, lambda_nu(5500.0))     # Use Flambda_Fnu function to calculate Fnu\n",
    "    abnu = -2.5*np.log10(Fnu) - 48.6                  # Calculate abnu with original abnu magnitude equation\n",
    "    return abnu\n",
    "\n",
    "stmag_abnu(4.0)"
   ]
  },
  {
   "cell_type": "code",
   "execution_count": 20,
   "metadata": {
    "collapsed": false
   },
   "outputs": [
    {
     "data": {
      "text/plain": [
       "7.0090103106720676"
      ]
     },
     "execution_count": 20,
     "metadata": {},
     "output_type": "execute_result"
    }
   ],
   "source": [
    "import numpy as np\n",
    "\n",
    "# Function abnu_stmag converts ABNU magnitudes to STMAG magnitudes\n",
    "def abnu_stmag(abnu):\n",
    "    Fnu = 10**(-(abnu+48.6)/2.5)            # rearrange original abnu magnitude equation to solve for Fnu\n",
    "    Flambda = Fnu_Flambda(Fnu, 5500.0)        # Use Fnu_Flambda function to calculate Flambda\n",
    "    stmag = -2.5*np.log10(Flambda) - 21.1   # Calculate abnu with original abnu magnitude equation\n",
    "    return stmag\n",
    "\n",
    "abnu_stmag(7.0)"
   ]
  },
  {
   "cell_type": "code",
   "execution_count": null,
   "metadata": {
    "collapsed": true
   },
   "outputs": [],
   "source": []
  }
 ],
 "metadata": {
  "kernelspec": {
   "display_name": "Python 2",
   "language": "python",
   "name": "python2"
  },
  "language_info": {
   "codemirror_mode": {
    "name": "ipython",
    "version": 2
   },
   "file_extension": ".py",
   "mimetype": "text/x-python",
   "name": "python",
   "nbconvert_exporter": "python",
   "pygments_lexer": "ipython2",
   "version": "2.7.10"
  }
 },
 "nbformat": 4,
 "nbformat_minor": 0
}
